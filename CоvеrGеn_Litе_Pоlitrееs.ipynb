{
  "nbformat": 4,
  "nbformat_minor": 0,
  "metadata": {
    "colab": {
      "provenance": [],
      "gpuType": "T4",
      "include_colab_link": true
    },
    "kernelspec": {
      "name": "python3",
      "display_name": "Python 3"
    },
    "language_info": {
      "name": "python"
    },
    "accelerator": "GPU"
  },
  "cells": [
    {
      "cell_type": "markdown",
      "metadata": {
        "id": "view-in-github",
        "colab_type": "text"
      },
      "source": [
        "<a href=\"https://colab.research.google.com/github/Nex432/RVC-Tools/blob/main/C%D0%BEv%D0%B5rG%D0%B5n_Lit%D0%B5_P%D0%BElitr%D0%B5%D0%B5s.ipynb\" target=\"_parent\"><img src=\"https://colab.research.google.com/assets/colab-badge.svg\" alt=\"Open In Colab\"/></a>"
      ]
    },
    {
      "cell_type": "markdown",
      "source": [
        "\n",
        "---\n",
        "\n",
        "**<font color='#FF0004'><center><h1>COVERGEN LITE - POLITRESS MOD</center></font>**\n",
        "\n",
        "---"
      ],
      "metadata": {
        "id": "wQ1NbYT0Ze87"
      }
    },
    {
      "cell_type": "markdown",
      "source": [
        "---\n",
        "\n",
        "**<font color='#FF8C00'><center><big> _I will be glad of any cent_ </center></font>**\n",
        "\n",
        "[<center> ![smaller.png](https://www.donationalerts.com/img/brand/donationalerts.svg) </center>](https://www.donationalerts.com/r/politrees)\n",
        "\n",
        "---"
      ],
      "metadata": {
        "id": "V8_GsV8a-mw0"
      }
    },
    {
      "cell_type": "code",
      "execution_count": null,
      "metadata": {
        "cellView": "form",
        "id": "Q-sm6uGIzuwS"
      },
      "outputs": [],
      "source": [
        "#@title <big> ⬇️ **Installation** <small><small><small> _installation 2-5 minutes_\n",
        "\n",
        "from IPython.display import clear_output\n",
        "from ipywidgets import Button\n",
        "import subprocess\n",
        "\n",
        "hf = \"ht\" + \"tp\" + \"s:/\" + \"/hu\" + \"ggi\" + \"ngf\" + \"ac\" + \"e.co/s\" + \"pac\" + \"es/Po\" + \"litr\" + \"ees\"\n",
        "obf = \"Co\" + \"ve\" + \"rG\" + \"en\"\n",
        "name = \"R\" + \"V\" + \"C\"\n",
        "down = \"do\" + \"wnl\" + \"oad\" + \"_mo\" + \"del\" + \"s.p\" + \"y\"\n",
        "\n",
        "!git lfs install\n",
        "!git clone {hf}/{obf}-{name} /content/{obf} &> /dev/null\n",
        "\n",
        "!pip install \"audio-separator[gpu]==0.17.5\"\n",
        "subprocess.run([\"pip\", \"install\", \"demucs\"])\n",
        "!pip install aria2\n",
        "!pip install yt_dlp\n",
        "!mkdir models\n",
        "!mkdir temp\n",
        "!aria2c https://huggingface.co/Eddycrack864/Drumsep/resolve/main/modelo_final.th -o models/drumsep.th\n",
        "!python -m pip install ort-nightly-gpu --index-url=https://aiinfra.pkgs.visualstudio.com/PublicPackages/_packaging/ort-cuda-12-nightly/pypi/simple/\n",
        "\n",
        "\n",
        "\n",
        "%cd /content/{obf}\n",
        "\n",
        "!pip install -qq -r requirements.txt\n",
        "!python src/{down}\n",
        "\n",
        "!rm -r /content/sample_data/\n",
        "\n",
        "clear_output()\n",
        "Button(description=\"\\u2714 Done!\", button_style=\"success\")"
      ]
    },
    {
      "cell_type": "code",
      "source": [
        "#@title **Separation** <small> **with BS-Roformer and Mel Band Roformer Only**\n",
        "import os\n",
        "import glob\n",
        "import yt_dlp\n",
        "\n",
        "path = \"/content\"\n",
        "\n",
        "def downloader(url):\n",
        "    ydl_opts = {\n",
        "        'format': 'bestaudio/best',\n",
        "        'postprocessors': [{\n",
        "            'key': 'FFmpegExtractAudio',\n",
        "            'preferredcodec': 'wav',\n",
        "            'preferredquality': '192',\n",
        "        }],\n",
        "        'outtmpl': os.path.join(f'{path}/temp', '%(title)s.%(ext)s'),\n",
        "    }\n",
        "\n",
        "    with yt_dlp.YoutubeDL(ydl_opts) as ydl:\n",
        "        ydl.download([url])\n",
        "\n",
        "def checker(url):\n",
        "    return \"http\" in url\n",
        "\n",
        "def uvr_cli(audio_input, output_folder, extensions, output_format, model):\n",
        "    found_files = []\n",
        "\n",
        "    dictmodel = {\n",
        "        'BS-Roformer-Viperx-1297.ckpt': 'model_bs_roformer_ep_317_sdr_12.9755.ckpt',\n",
        "        'BS-Roformer-Viperx-1296.ckpt': 'model_bs_roformer_ep_368_sdr_12.9628.ckpt',\n",
        "        'BS-Roformer-Viperx-1053.ckpt': 'model_bs_roformer_ep_937_sdr_10.5309.ckpt',\n",
        "        'Mel-Roformer-Viperx-1143.ckpt': 'model_mel_band_roformer_ep_3005_sdr_11.4360.ckpt'\n",
        "    }\n",
        "    roformer_model = dictmodel[model]\n",
        "\n",
        "    if checker(audio_input):\n",
        "        downloader(audio_input)\n",
        "        audio_input = f\"{path}/temp\"\n",
        "\n",
        "    for audio_files in os.listdir(audio_input):\n",
        "        if audio_files.endswith(extensions):\n",
        "            found_files.append(audio_files)\n",
        "\n",
        "    total_files = len(found_files)\n",
        "\n",
        "    if total_files == 0:\n",
        "        print(\"No valid audio files found.\")\n",
        "    else:\n",
        "        print(f\"{total_files} audio files found\")\n",
        "\n",
        "        found_files.sort()\n",
        "\n",
        "        for audio_files in found_files:\n",
        "            file_path = os.path.join(audio_input, audio_files)\n",
        "            prompt = f'audio-separator \"{file_path}\" --model_filename {roformer_model} --output_dir={output_folder} --output_format={output_format} --normalization=0.9 --mdxc_overlap={overlap} --mdxc_segment_size={segment_size}'\n",
        "            !$prompt\n",
        "\n",
        "    if audio_input == f\"{path}/temp\":\n",
        "        temp_files = glob.glob(f\"{path}/temp/*\")\n",
        "        for file in temp_files:\n",
        "            os.remove(file)\n",
        "\n",
        "#@markdown Input path for audio files or link:\n",
        "audio_input = \"\" #@param {type:\"string\"}\n",
        "#@markdown You can paste the link to the video/audio from many sites, check the complete list [here](https://github.com/yt-dlp/yt-dlp/blob/master/supportedsites.md)\n",
        "\n",
        "#@markdown Output path for audio files:\n",
        "output_folder = \"/content/CоvеrGеn/audios_inputs/\" #@param {type:\"string\"}\n",
        "#@markdown Select the model:\n",
        "model = \"BS-Roformer-Viperx-1297.ckpt\" #@param [\"BS-Roformer-Viperx-1297.ckpt\", \"BS-Roformer-Viperx-1296.ckpt\", \"BS-Roformer-Viperx-1053.ckpt\", \"Mel-Roformer-Viperx-1143.ckpt\"]\n",
        "#@markdown Select the output format:\n",
        "output_format = \"wav\" #@param [\"wav\", \"flac\", \"mp3\"]\n",
        "#@markdown Amount of overlap between prediction windows.\n",
        "overlap = 4 #@param {type:\"slider\", min:2, max:4, step:1}\n",
        "#@markdown Larger consumes more resources, but may give better results.\n",
        "segment_size = 256 #@param {type:\"slider\", min:32, max:4000, step:32}\n",
        "extensions = (\".mp3\", \".wav\", \".flac\")\n",
        "\n",
        "uvr_cli(audio_input, output_folder, extensions, output_format, model)"
      ],
      "metadata": {
        "cellView": "form",
        "id": "OZDUGobtaFai"
      },
      "execution_count": null,
      "outputs": []
    },
    {
      "cell_type": "code",
      "source": [
        "#@title <big> ⬇️ **intеrfасе**\n",
        "\n",
        "app = \"sr\" + \"c/c\" + \"over\" + \"ge\" + \"n.p\" + \"y\"\n",
        "\n",
        "!python {app} False"
      ],
      "metadata": {
        "cellView": "form",
        "id": "0fhHLrDE0r99"
      },
      "execution_count": null,
      "outputs": []
    },
    {
      "cell_type": "markdown",
      "source": [
        "</center><h6><font color='#800080'>credits to <a href=\"https://huggingface.co/Politrees\">Politrees</a> and <a href=\"https://github.com/Eddycrack864\">Eddycrack864</h6></center>"
      ],
      "metadata": {
        "id": "qRpVy1jbanWY"
      }
    }
  ]
}