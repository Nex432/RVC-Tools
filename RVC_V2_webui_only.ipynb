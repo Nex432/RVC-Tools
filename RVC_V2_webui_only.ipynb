{
  "nbformat": 4,
  "nbformat_minor": 0,
  "metadata": {
    "colab": {
      "private_outputs": true,
      "provenance": [],
      "gpuType": "T4",
      "include_colab_link": true
    },
    "kernelspec": {
      "name": "python3",
      "display_name": "Python 3"
    },
    "language_info": {
      "name": "python"
    },
    "accelerator": "GPU"
  },
  "cells": [
    {
      "cell_type": "markdown",
      "metadata": {
        "id": "view-in-github",
        "colab_type": "text"
      },
      "source": [
        "<a href=\"https://colab.research.google.com/github/Blane187/RVC-notebook/blob/main/RVC_V2_webui_only.ipynb\" target=\"_parent\"><img src=\"https://colab.research.google.com/assets/colab-badge.svg\" alt=\"Open In Colab\"/></a>"
      ]
    },
    {
      "cell_type": "code",
      "source": [
        "#@title  **INSTALL**\n",
        "%cd /content\n",
        "from IPython.display import clear_output\n",
        "from ipywidgets import Button\n",
        "import subprocess, shlex, os\n",
        "from google.colab import drive\n",
        "\n",
        "var = \"We\"+\"bU\"+\"I\"\n",
        "test = \"Voice\"\n",
        "c_word = \"Conversion\"\n",
        "r_word = \"Retrieval\"\n",
        "!git clone https://github.com/Blane187/{r_word}-based-{test}-{c_word}-{var} /content/RVC\n",
        "\n",
        "!apt -y install -qq aria2\n",
        "pretrains = [\"f0D32k.pth\",\"f0G32k.pth\"]\n",
        "new_pretrains = [\"f0Ov2Super32kD.pth\",\"f0Ov2Super32kG.pth\"]\n",
        "\n",
        "for file in pretrains:\n",
        "    if not os.path.exists(f\"/content/RVC/assets/pretrained_v2/{file}\"):\n",
        "        command = \"aria2c --console-log-level=error -c -x 16 -s 16 -k 1M https://huggingface.co/lj1995/%s%s%s/resolve/main/pretrained_v2/%s -d /content/RVC/assets/pretrained_v2 -o %s\" % (\"Voice\",\"Conversion\",\"WebUI\",file,file)\n",
        "        try:\n",
        "            subprocess.run(shlex.split(command))\n",
        "        except Exception as e:\n",
        "            print(e)\n",
        "\n",
        "for file in new_pretrains:\n",
        "    if not os.path.exists(f\"/content/RVC/assets/pretrained_v2/{file}\"):\n",
        "        command = \"aria2c --console-log-level=error -c -x 16 -s 16 -k 1M https://huggingface.co/poiqazwsx/Ov2Super32kfix/resolve/main/%s -d /content/RVC/assets/pretrained_v2 -o %s\" % (file,file)\n",
        "        try:\n",
        "            subprocess.run(shlex.split(command))\n",
        "            print(shlex.split(command))\n",
        "        except Exception as e:\n",
        "            print(e)\n",
        "\n",
        "!mkdir -p /content/dataset && mkdir -p /content/RVC/audios\n",
        "!wget -nc https://raw.githubusercontent.com/RejektsAI/EasyTools/main/original -O /content/RVC/original.py\n",
        "!wget -nc https://huggingface.co/datasets/Hev832/RVC/raw/main/app.py -O /content/RVC/demo.py\n",
        "!wget -nc https://raw.githubusercontent.com/RejektsAI/EasyTools/main/easyfuncs.py -O /content/RVC/easyfuncs.py\n",
        "!wget -nc https://huggingface.co/Rejekts/project/resolve/main/download_files.py -O /content/RVC/download_files.py\n",
        "!wget -nc https://huggingface.co/Rejekts/project/resolve/main/a.png -O /content/RVC/a.png\n",
        "!wget -nc https://huggingface.co/Rejekts/project/resolve/main/easy_sync.py -O /content/RVC/easy_sync.py\n",
        "!wget -nc https://huggingface.co/spaces/Rejekts/RVC_PlayGround/raw/main/app.py -O /content/RVC/playground.py\n",
        "!wget -nc https://huggingface.co/spaces/Rejekts/RVC_PlayGround/raw/main/tools/useftools.py -O /content/RVC/tools/useftools.py\n",
        "!wget -nc https://huggingface.co/Rejekts/project/resolve/main/astronauts.mp3 -O /content/RVC/audios/astronauts.mp3\n",
        "!wget -nc https://huggingface.co/Rejekts/project/resolve/main/somegirl.mp3 -O /content/RVC/audios/somegirl.mp3\n",
        "!wget -nc https://huggingface.co/Rejekts/project/resolve/main/someguy.mp3 -O /content/RVC/audios/someguy.mp3\n",
        "!wget -nc https://huggingface.co/Rejekts/project/resolve/main/unchico.mp3 -O /content/RVC/audios/unchico.mp3\n",
        "!wget -nc https://huggingface.co/Rejekts/project/resolve/main/unachica.mp3 -O /content/RVC/audios/unachica.mp3\n",
        "!cd /content/RVC && python /content/RVC/download_files.py\n",
        "\n",
        "if not \"installed\" in locals():\n",
        "    !cd /content/RVC && pip install -r requirements.txt\n",
        "    !pip install mega.py gdown==4.6.0 pytube pydub  gradio==3.42.0\n",
        "installed=True\n",
        "\n",
        "\n",
        "clear_output()\n",
        "Button(description=\"\\u2714 Success\", button_style=\"success\")"
      ],
      "metadata": {
        "id": "Sb5fzhzEXK8X",
        "cellView": "form"
      },
      "execution_count": null,
      "outputs": []
    },
    {
      "cell_type": "code",
      "source": [
        "#@title Open\n",
        "import shutil\n",
        "%cd /content/RVC\n",
        "load_models_from_drive = False #@param{type:\"boolean\"}\n",
        "open_tensorboard = False #@param{type:\"boolean\"}\n",
        "py = \"demo.py\"\n",
        "if load_models_from_drive:\n",
        "    if os.path.exists('/content/drive/MyDrive/project-main'):\n",
        "        for file in os.listdir('/content/drive/MyDrive/project-main/assets/weights'):\n",
        "            try: shutil.copy2(f'/content/drive/MyDrive/project-main/assets/weights/{file}','/content/RVC/assets/weights/')\n",
        "            except: print(f\"Error loading {file}\")\n",
        "        for file in os.listdir('/content/drive/MyDrive/project-main/logs'):\n",
        "            try: shutil.copytree(f'/content/drive/MyDrive/project-main/logs/{file}',f'/content/RVC/logs/{file}')\n",
        "            except: print(f\"Error loading {file}\")\n",
        "    else:\n",
        "        print(\"Google Drive not connected...\")\n",
        "if open_tensorboard:\n",
        "    %load_ext tensorboard\n",
        "    %tensorboard --logdir ./logs --port=8888\n",
        "!python {py} --colab"
      ],
      "metadata": {
        "id": "DZDKirCM0F9g",
        "cellView": "form"
      },
      "execution_count": null,
      "outputs": []
    }
  ]
}
