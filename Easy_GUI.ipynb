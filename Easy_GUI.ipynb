{
  "nbformat": 4,
  "nbformat_minor": 0,
  "metadata": {
    "colab": {
      "private_outputs": true,
      "provenance": [],
      "gpuType": "T4",
      "include_colab_link": true
    },
    "kernelspec": {
      "name": "python3",
      "display_name": "Python 3"
    },
    "language_info": {
      "name": "python"
    },
    "accelerator": "GPU"
  },
  "cells": [
    {
      "cell_type": "markdown",
      "metadata": {
        "id": "view-in-github",
        "colab_type": "text"
      },
      "source": [
        "<a href=\"https://colab.research.google.com/github/Blane187/RVC-notebook/blob/main/Easy_GUI.ipynb\" target=\"_parent\"><img src=\"https://colab.research.google.com/assets/colab-badge.svg\" alt=\"Open In Colab\"/></a>"
      ]
    },
    {
      "cell_type": "markdown",
      "source": [
        "# <strong> Easy GUI 💻\n",
        "\n",
        "---\n",
        "\n",
        "Notebook made by: [Hina](https://linktr.ee/_hina__) and [Blane](https://github.com/Blane187)\n",
        "\n",
        "---\n",
        "\n",
        "Support [Ilaria](https://ko-fi.com/ilariaowo) and [Rejekts](https://ko-fi.com/rejekts)\n",
        "\n",
        "---\n",
        "\n",
        "Join AI Hub on [Discord](https://discord.gg/aihub)\n",
        "\n",
        "---\n",
        "\n",
        "This Easy GUI colab uses Repository [Ilaria RVC](https://github.com/TheStingerX/Ilaria-RVC.git) and [Mangio Kalo Tweaks](https://github.com/kalomaze/Mangio-Kalo-Tweaks.git)\n",
        "\n",
        "---"
      ],
      "metadata": {
        "id": "1_BdHycqYN6B"
      }
    },
    {
      "cell_type": "code",
      "execution_count": null,
      "metadata": {
        "id": "t8gn3pmO14On",
        "cellView": "form"
      },
      "outputs": [],
      "source": [
        "\n",
        "#@markdown ## Install RVC\n",
        "\n",
        "\n",
        "#Tunnel = \"Gradio\" #@param ['Cloudflared','Gradio']\n",
        "\n",
        "\n",
        "from IPython.display import clear_output, Javascript\n",
        "import codecs\n",
        "import subprocess\n",
        "\n",
        "\n",
        "!mkdir RVC\n",
        "%cd RVC\n",
        "gitrepo = codecs.decode('uggcf://tvguho.pbz/nyrkyaxc/Znatvb-EIP-Gjrnxf.tvg','rot_13')\n",
        "!git clone $gitrepo .\n",
        "import codecs\n",
        "del_stuff = codecs.decode('eha.fu irai.fu erdhverzragf-jva-sbe-ernygvzr_ip_thv.gkg erdhverzragf-jva-sbe-ernygvzr_ip_thv-qzy.gkg erdhverzragf-vcrk.gkg erdhverzragf-qzy.gkg erdhverzragf-nzq.gkg clcebwrpg.gbzy cbrgel.ybpx tb-jro.ong tb-jro-qzy.ong tb-ernygvzr-thv.ong tb-ernygvzr-thv-qzy.ong raivebazrag_qzy.lnzy qbpxre-pbzcbfr.lzy Ergevriny_onfrq_Ibvpr_Pbairefvba_JroHV.vclao Ergevriny_onfrq_Ibvpr_Pbairefvba_JroHV_i2.vclao ERNQZR.zq ZVG协议暨相关引用库协议 YVPRAFR Qbpxresvyr PBAGEVOHGVAT.zq .tvgvtaber qbpf','rot_13')\n",
        "!rm -rf $del_stuff\n",
        "\n",
        "!curl -LJO https://raw.githubusercontent.com/BVX99/Tools/main/Ilaria/app.py\n",
        "!sed -i 's/share=False/share=True/g' app.py\n",
        "!sed -i 's/(np.int)/(int)/g' vc_infer_pipeline.py\n",
        "clear_output()\n",
        "\n",
        "# Install Requirements\n",
        "req_file = codecs.decode('uggcf://enj.tvguhohfrepbagrag.pbz/Znatvb621/Znatvb-EIP-Sbex/znva/erdhverzragf.gkg', 'rot_13')\n",
        "rmt = codecs.decode('uggcf://uhttvatsnpr.pb/yw1995/IbvprPbairefvbaJroHV/erfbyir/znva/ezicr.cg ','rot_13')\n",
        "\n",
        "\n",
        "\n",
        "subprocess.run([\"rm\", \"requirements.txt\"]) # yeet\n",
        "subprocess.run([\"pip\", \"install\", \"uv\"]) # uv is replaces pip, and is significantly faster\n",
        "subprocess.run([\"curl\", \"-LJO\", req_file])\n",
        "subprocess.run([\"uv\", \"venv\", \".venv\"])\n",
        "subprocess.run([\"uv\", \"pip\", \"install\", \"-Ur\", \"requirements.txt\"]) # pip sync won't do, as apparently it doesn't download the vendored nvidia cu* libraries\n",
        "subprocess.run([\"uv\", \"pip\", \"install\", \"-U\", \"pip==24.0\"])\n",
        "subprocess.run([\"uv\", \"pip\", \"install\", \"-U\", \"ffmpy==0.3.2\", \"mega.py==1.0.8\", \"gtts==2.5.1\", \"edge_tts==6.1.10\", \"ipykernel==6.29.2\"]) # mangio's requirements pull an older ffmpy for some reason...\n",
        "subprocess.run([\"pip\", \"install\", \"yt_dlp\", \"ffmpeg\"])\n",
        "\n",
        "\n",
        "\n",
        "!curl -LJO https://raw.githubusercontent.com/TheStingerX/Ilaria-RVC/main/ilariatts.py\n",
        "!curl -LJO https://raw.githubusercontent.com/TheStingerX/Ilaria-RVC/main/utils.py\n",
        "\n",
        "!curl -LO $rmt\n",
        "\n",
        "clear_output()\n",
        "print(\"Finished Installing Requirments\")\n",
        "\n",
        "print(\"Done Cloning Repo\")"
      ]
    },
    {
      "cell_type": "code",
      "source": [
        "\n",
        "#@markdown ## run webui\n",
        "\n",
        "\n",
        "url= \"https://youtu.be/xcYYvsp1gZ0?si=YkjtJw3wfNAA4VHp\" #@param {type:\"string\"}\n",
        "\n",
        "#@markdown for `audio_name` do not be given a space\n",
        "\n",
        "audio_name= \"Undefeatable\" #@param {type:\"string\"}\n",
        "\n",
        "\n",
        "\n",
        "\n",
        "import yt_dlp\n",
        "import time\n",
        "\n",
        "ydl_opts = {\n",
        "    'format': 'wav/bestaudio/best',\n",
        "    # ℹ️ See help(yt_dlp.postprocessor) for a list of available Postprocessors and their arguments\n",
        "    'postprocessors': [{  # Extract audio using ffmpeg\n",
        "        'key': 'FFmpegExtractAudio',\n",
        "        'preferredcodec': 'wav',\n",
        "    }],\n",
        "    'outtmpl': f'audios/{audio_name}',\n",
        "}\n",
        "\n",
        "with yt_dlp.YoutubeDL(ydl_opts) as ydl:\n",
        "    error_code = ydl.download(url)\n",
        "\n",
        "\n",
        "\n",
        "\n",
        "\n",
        "!source .venv/bin/activate; python3 app.py --colab"
      ],
      "metadata": {
        "cellView": "form",
        "id": "6Wh03jZZgV3b"
      },
      "execution_count": null,
      "outputs": []
    }
  ]
}