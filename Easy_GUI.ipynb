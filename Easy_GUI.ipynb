{
  "nbformat": 4,
  "nbformat_minor": 0,
  "metadata": {
    "colab": {
      "private_outputs": true,
      "provenance": [],
      "gpuType": "T4",
      "include_colab_link": true
    },
    "kernelspec": {
      "name": "python3",
      "display_name": "Python 3"
    },
    "language_info": {
      "name": "python"
    },
    "accelerator": "GPU"
  },
  "cells": [
    {
      "cell_type": "markdown",
      "metadata": {
        "id": "view-in-github",
        "colab_type": "text"
      },
      "source": [
        "<a href=\"https://colab.research.google.com/github/blane187gt/RVC-Tools/blob/main/Easy_GUI.ipynb\" target=\"_parent\"><img src=\"https://colab.research.google.com/assets/colab-badge.svg\" alt=\"Open In Colab\"/></a>"
      ]
    },
    {
      "cell_type": "markdown",
      "source": [
        "# <strong> Easy GUI 💻\n",
        "\n",
        "---\n",
        "\n",
        "Notebook made by: [Hina](https://linktr.ee/_hina__) and [Blane187gt](https://github.com/blane187gt)\n",
        "\n",
        "---\n",
        "\n",
        "Support  [Rejekts](https://ko-fi.com/rejekts)\n",
        "\n",
        "---\n",
        "\n",
        "Join AI Hub on [Discord](https://discord.gg/aihub)\n",
        "\n",
        "---"
      ],
      "metadata": {
        "id": "1_BdHycqYN6B"
      }
    },
    {
      "cell_type": "code",
      "execution_count": null,
      "metadata": {
        "id": "t8gn3pmO14On",
        "cellView": "form"
      },
      "outputs": [],
      "source": [
        "\n",
        "#@markdown ## Install RVC\n",
        "\n",
        "\n",
        "#Tunnel = \"Gradio\" #@param ['Cloudflared','Gradio']\n",
        "\n",
        "\n",
        "from IPython.display import clear_output, Javascript\n",
        "import codecs\n",
        "import subprocess\n",
        "\n",
        "\n",
        "!mkdir RVC\n",
        "%cd RVC\n",
        "gitrepo = codecs.decode('uggcf://tvguho.pbz/nyrkyaxc/Znatvb-EIP-Gjrnxf.tvg','rot_13')\n",
        "!git clone $gitrepo .\n",
        "import codecs\n",
        "del_stuff = codecs.decode('eha.fu irai.fu erdhverzragf-jva-sbe-ernygvzr_ip_thv.gkg erdhverzragf-jva-sbe-ernygvzr_ip_thv-qzy.gkg erdhverzragf-vcrk.gkg erdhverzragf-qzy.gkg erdhverzragf-nzq.gkg clcebwrpg.gbzy cbrgel.ybpx tb-jro.ong tb-jro-qzy.ong tb-ernygvzr-thv.ong tb-ernygvzr-thv-qzy.ong raivebazrag_qzy.lnzy qbpxre-pbzcbfr.lzy Ergevriny_onfrq_Ibvpr_Pbairefvba_JroHV.vclao Ergevriny_onfrq_Ibvpr_Pbairefvba_JroHV_i2.vclao ERNQZR.zq ZVG协议暨相关引用库协议 YVPRAFR Qbpxresvyr PBAGEVOHGVAT.zq .tvgvtaber qbpf','rot_13')\n",
        "!rm -rf $del_stuff\n",
        "\n",
        "!curl -LJO https://raw.githubusercontent.com/BVX99/Tools/main/Ilaria/app.py\n",
        "!sed -i 's/share=False/share=True/g' app.py\n",
        "!sed -i 's/(np.int)/(int)/g' vc_infer_pipeline.py\n",
        "clear_output()\n",
        "\n",
        "# Install Requirements\n",
        "req_file = codecs.decode('uggcf://enj.tvguhohfrepbagrag.pbz/Znatvb621/Znatvb-EIP-Sbex/znva/erdhverzragf.gkg', 'rot_13')\n",
        "rmt = codecs.decode('uggcf://uhttvatsnpr.pb/yw1995/IbvprPbairefvbaJroHV/erfbyir/znva/ezicr.cg ','rot_13')\n",
        "!pip install pip==23.3.1\n",
        "!pip install -r requirements.txt\n",
        "!pip install ffmpy==0.3.2 mega.py==1.0.8 gtts==2.5.1 edge_tts==6.1.10 ipykernel==6.29.2 # mangio's requirements pull an older ffmpy for some reason...\n",
        "!pip install yt_dlp ffmpeg\n",
        "!pip install fairseq\n",
        "!pip install gradio==3.43.0\n",
        "!pip install praat-parselmouth\n",
        "!pip install torchcrepe\n",
        "!pip install pyworld\n",
        "!pip install \"audio-separator[gpu]==0.17.5\"\n",
        "\n",
        "\n",
        "\n",
        "\n",
        "\n",
        "!curl -LJO https://raw.githubusercontent.com/TheStingerX/Ilaria-RVC/main/ilariatts.py\n",
        "!curl -LJO https://raw.githubusercontent.com/TheStingerX/Ilaria-RVC/main/utils.py\n",
        "\n",
        "!curl -LO $rmt\n",
        "\n",
        "clear_output()\n",
        "print(\"Finished Installing Requirments\")\n",
        "\n",
        "print(\"Done Cloning Repo\")"
      ]
    },
    {
      "cell_type": "code",
      "source": [
        "#@title Download Pretrained Model\n",
        "\n",
        "target_sample_rate = \"40k\" #@param [\"32k\", \"40k\", \"48k\"] {allow-input: false}\n",
        "\n",
        "\n",
        "#@markdown What pretrained model would you like to use?\n",
        "pretrain_type = \"TITAN\" #@param [\"original\", \"OV2Super\", \"RIN_E3\", \"ItaIla\", \"SnowieV3\", \"SnowieV3xRIN_E3\", \"TITAN\", \"custom\"] {allow-input: false}\n",
        "#@markdown **Advanced:** Set your pretrain type to \"custom\" and input HuggingFace links to your G and D files here.\n",
        "g=\"\" #@param {type:\"string\"}\n",
        "d=\"\" #@param {type:\"string\"}\n",
        "model_architecture == \"v2\"\n",
        "if pretrain_type!=\"original\" and model_architecture!=\"v2\":\n",
        "  model_architecture=\"v2\"\n",
        "  print(\"The new pretrains only support RVC v2 at this time. Your settings have been automatically adjusted.\")\n",
        "\n",
        "if pretrain_type==\"OV2Super\" and target_sample_rate==\"48k\":\n",
        "  target_sample_rate=\"40k\"\n",
        "  print(\"OV2Super only supports 40k and lower at this time. Your settings have been automatically adjusted.\")\n",
        "if pretrain_type==\"RIN_E3\" and target_sample_rate!=\"40k\":\n",
        "  target_sample_rate=\"40k\"\n",
        "  print(\"RIN_E3 only supports 40k at this time. Your settings have been automatically adjusted.\")\n",
        "if pretrain_type==\"ItaIla\" and target_sample_rate!=\"32k\":\n",
        "  target_sample_rate=\"32k\"\n",
        "  print(\"ItaIla only supports 32k at this time. Your settings have been automatically adjusted.\")\n",
        "if pretrain_type==\"SnowieV3xRIN_E3\" and target_sample_rate!=\"40k\":\n",
        "  target_sample_rate=\"40k\"\n",
        "  print(\"SnowieV3 x RIN_E3 only supports 40k at this time. Your settings have been automatically adjusted.\")\n",
        "\n",
        "#Setup link\n",
        "print(\"Setting up...\")\n",
        "if pretrain_type==\"original\" and model_architecture==\"v2\":\n",
        "  g = f\"https://huggingface.co/Kit-Lemonfoot/RVC_DidntAsk/resolve/main/f0G{target_sample_rate}.pth\"\n",
        "  d = f\"https://huggingface.co/Kit-Lemonfoot/RVC_DidntAsk/resolve/main/f0D{target_sample_rate}.pth\"\n",
        "if pretrain_type==\"original\" and model_architecture==\"v1\":\n",
        "  g = f\"https://huggingface.co/Kit-Lemonfoot/RVC_DidntAsk/resolve/main/v1/f0G{target_sample_rate}.pth\"\n",
        "  d = f\"https://huggingface.co/Kit-Lemonfoot/RVC_DidntAsk/resolve/main/v1/f0D{target_sample_rate}.pth\"\n",
        "if pretrain_type==\"OV2Super\" and target_sample_rate==\"40k\":\n",
        "  g = f\"https://huggingface.co/ORVC/Ov2Super/resolve/main/f0Ov2Super{target_sample_rate}G.pth\"\n",
        "  d = f\"https://huggingface.co/ORVC/Ov2Super/resolve/main/f0Ov2Super{target_sample_rate}D.pth\"\n",
        "if pretrain_type==\"OV2Super\" and target_sample_rate==\"32k\":\n",
        "  g = f\"https://huggingface.co/poiqazwsx/Ov2Super32kfix/resolve/main/f0Ov2Super32kD.pth\"\n",
        "  d = f\"https://huggingface.co/poiqazwsx/Ov2Super32kfix/resolve/main/f0Ov2Super32kD.pth\"\n",
        "if pretrain_type==\"RIN_E3\":\n",
        "  g = \"https://huggingface.co/MUSTAR/RIN_E3/resolve/main/RIN_E3_G.pth\"\n",
        "  d = \"https://huggingface.co/MUSTAR/RIN_E3/resolve/main/RIN_E3_D.pth\"\n",
        "if pretrain_type==\"SnowieV3\":\n",
        "  g = f\"https://huggingface.co/MUSTAR/SnowieV3.1-{target_sample_rate}/resolve/main/G_SnowieV3.1_{target_sample_rate}.pth\"\n",
        "  d = f\"https://huggingface.co/MUSTAR/SnowieV3.1-{target_sample_rate}/resolve/main/D_SnowieV3.1_{target_sample_rate}.pth\"\n",
        "if pretrain_type==\"ItaIla\":\n",
        "  g = \"https://huggingface.co/TheStinger/itaila/resolve/main/ItaIla_32k_G.pth\"\n",
        "  d = \"https://huggingface.co/TheStinger/itaila/resolve/main/ItaIla_32k_D.pth\"\n",
        "if pretrain_type==\"SnowieV3xRIN_E3\":\n",
        "  g = \"https://huggingface.co/MUSTAR/SnowieV3.1-X-RinE3-40K/resolve/main/G_Snowie-X-Rin_40k.pth\"\n",
        "  d = \"https://huggingface.co/MUSTAR/SnowieV3.1-X-RinE3-40K/resolve/main/D_Snowie-X-Rin_40k.pth\"\n",
        "if pretrain_type==\"TITAN\":\n",
        "  g = f\"https://huggingface.co/blaise-tk/TITAN/resolve/main/models/medium/{target_sample_rate}/pretrained/G-f0{target_sample_rate}-TITAN-Medium.pth\"\n",
        "  d = f\"https://huggingface.co/blaise-tk/TITAN/resolve/main/models/medium/{target_sample_rate}/pretrained/D-f0{target_sample_rate}-TITAN-Medium.pth\"\n",
        "\n",
        "pretrained_base = \"pretrained/\" if model_architecture == \"v1\" else \"pretrained/\"\n",
        "unpt = f\"_{pretrain_type}\" if pretrain_type!=\"original\" else \"\"\n",
        "\n",
        "print(\"Downloading your pretrained model...\")\n",
        "!aria2c --console-log-level=error -q -c -x 16 -s 16 -k 1M {g} -d /content/RVC/{pretrained_base} -o f0G{target_sample_rate}{unpt}.pth\n",
        "!aria2c --console-log-level=error -q -c -x 16 -s 16 -k 1M {d} -d /content/RVC/{pretrained_base} -o f0D{target_sample_rate}{unpt}.pth\n",
        "\n",
        "print(\"Pretrain downloaded. Best of luck training!\")"
      ],
      "metadata": {
        "cellView": "form",
        "id": "uaTjOhcTOFLV"
      },
      "execution_count": null,
      "outputs": []
    },
    {
      "cell_type": "code",
      "source": [
        "\n",
        "#@markdown ## run webui\n",
        "\n",
        "\n",
        "\n",
        "\n",
        "\n",
        "\n",
        "\n",
        "!source .venv/bin/activate; python3 app.py --colab"
      ],
      "metadata": {
        "cellView": "form",
        "id": "6Wh03jZZgV3b"
      },
      "execution_count": null,
      "outputs": []
    }
  ]
}